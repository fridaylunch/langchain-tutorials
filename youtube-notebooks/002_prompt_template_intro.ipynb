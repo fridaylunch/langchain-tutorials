{
 "cells": [
  {
   "cell_type": "markdown",
   "id": "87aebe8a",
   "metadata": {},
   "source": [
    "### Prompt templates - why they matter\n",
    "\n",
    "1. Easy way to create and use prompts\n",
    "2. Organize your prompts"
   ]
  },
  {
   "cell_type": "code",
   "execution_count": 1,
   "id": "be411713",
   "metadata": {},
   "outputs": [
    {
     "ename": "KeyError",
     "evalue": "'OPENAI_API_KEY'",
     "output_type": "error",
     "traceback": [
      "\u001b[0;31m---------------------------------------------------------------------------\u001b[0m",
      "\u001b[0;31mKeyError\u001b[0m                                  Traceback (most recent call last)",
      "\u001b[0;32m/var/folders/b9/g5kp8y856g3bwwp5plg4b7kr0000gn/T/ipykernel_96664/4214875950.py\u001b[0m in \u001b[0;36m<module>\u001b[0;34m\u001b[0m\n\u001b[1;32m      1\u001b[0m \u001b[0;32mimport\u001b[0m \u001b[0mos\u001b[0m\u001b[0;34m\u001b[0m\u001b[0;34m\u001b[0m\u001b[0m\n\u001b[1;32m      2\u001b[0m \u001b[0;34m\u001b[0m\u001b[0m\n\u001b[0;32m----> 3\u001b[0;31m \u001b[0mOPEN_AI_APIKEY\u001b[0m \u001b[0;34m=\u001b[0m \u001b[0mos\u001b[0m\u001b[0;34m.\u001b[0m\u001b[0menviron\u001b[0m\u001b[0;34m[\u001b[0m\u001b[0;34m\"OPENAI_API_KEY\"\u001b[0m\u001b[0;34m]\u001b[0m\u001b[0;34m\u001b[0m\u001b[0;34m\u001b[0m\u001b[0m\n\u001b[0m",
      "\u001b[0;32m~/opt/anaconda3/lib/python3.9/os.py\u001b[0m in \u001b[0;36m__getitem__\u001b[0;34m(self, key)\u001b[0m\n\u001b[1;32m    677\u001b[0m         \u001b[0;32mexcept\u001b[0m \u001b[0mKeyError\u001b[0m\u001b[0;34m:\u001b[0m\u001b[0;34m\u001b[0m\u001b[0;34m\u001b[0m\u001b[0m\n\u001b[1;32m    678\u001b[0m             \u001b[0;31m# raise KeyError with the original key value\u001b[0m\u001b[0;34m\u001b[0m\u001b[0;34m\u001b[0m\u001b[0m\n\u001b[0;32m--> 679\u001b[0;31m             \u001b[0;32mraise\u001b[0m \u001b[0mKeyError\u001b[0m\u001b[0;34m(\u001b[0m\u001b[0mkey\u001b[0m\u001b[0;34m)\u001b[0m \u001b[0;32mfrom\u001b[0m \u001b[0;32mNone\u001b[0m\u001b[0;34m\u001b[0m\u001b[0;34m\u001b[0m\u001b[0m\n\u001b[0m\u001b[1;32m    680\u001b[0m         \u001b[0;32mreturn\u001b[0m \u001b[0mself\u001b[0m\u001b[0;34m.\u001b[0m\u001b[0mdecodevalue\u001b[0m\u001b[0;34m(\u001b[0m\u001b[0mvalue\u001b[0m\u001b[0;34m)\u001b[0m\u001b[0;34m\u001b[0m\u001b[0;34m\u001b[0m\u001b[0m\n\u001b[1;32m    681\u001b[0m \u001b[0;34m\u001b[0m\u001b[0m\n",
      "\u001b[0;31mKeyError\u001b[0m: 'OPENAI_API_KEY'"
     ]
    }
   ],
   "source": [
    "import os\n",
    "\n",
    "OPEN_AI_APIKEY = os.environ[\"OPENAI_API_KEY\"]"
   ]
  },
  {
   "cell_type": "code",
   "execution_count": 46,
   "id": "d2f3ee3c",
   "metadata": {},
   "outputs": [],
   "source": [
    "from langchain.prompts import PromptTemplate"
   ]
  },
  {
   "cell_type": "code",
   "execution_count": 48,
   "id": "2da4f32d",
   "metadata": {},
   "outputs": [],
   "source": [
    " "
   ]
  },
  {
   "cell_type": "code",
   "execution_count": 50,
   "id": "974f871e",
   "metadata": {
    "scrolled": true
   },
   "outputs": [
    {
     "name": "stdout",
     "output_type": "stream",
     "text": [
      "List three facts about tigers.\n"
     ]
    }
   ],
   "source": [
    "formatted = prompt.format(topic=\"tigers\")\n",
    "\n",
    "print(formatted)"
   ]
  },
  {
   "cell_type": "code",
   "execution_count": 51,
   "id": "5a734810",
   "metadata": {},
   "outputs": [],
   "source": [
    "from langchain.llms import OpenAI\n",
    "from langchain.chains import LLMChain\n",
    "\n",
    "openai_llm = OpenAI(verbose=True, temperature=0.5)\n",
    "chain = LLMChain(llm=openai_llm, prompt=prompt_template)"
   ]
  },
  {
   "cell_type": "code",
   "execution_count": 52,
   "id": "38dbdb4f",
   "metadata": {},
   "outputs": [
    {
     "name": "stdout",
     "output_type": "stream",
     "text": [
      "\n",
      "\n",
      "1. Elephants are the largest land animals in the world.\n",
      "2. African elephants have larger ears than Asian elephants.\n",
      "3. Elephants have a highly developed brain, capable of complex thought and emotion.\n"
     ]
    }
   ],
   "source": [
    "response = chain.run(\"elephants\")\n",
    "\n",
    "print(response)"
   ]
  },
  {
   "cell_type": "markdown",
   "id": "423652c4",
   "metadata": {},
   "source": [
    "### FewShotPromptTemplate\n",
    "1. Good when you have an idea of what you want\n",
    "2. Helpful for introducing your own taste into the output"
   ]
  },
  {
   "cell_type": "code",
   "execution_count": 53,
   "id": "6b743fd5",
   "metadata": {},
   "outputs": [
    {
     "name": "stdout",
     "output_type": "stream",
     "text": [
      "Create names for apps based on their category\n",
      "\n",
      "    Category: music\n",
      "    App name: Spotify\n",
      "    \n",
      "\n",
      "    Category: social\n",
      "    App name: Instagram\n",
      "    \n",
      "\n",
      "    Category: social\n",
      "    App name: TikTok\n",
      "    \n",
      "\n",
      "    Category: dating\n",
      "    App name: Tinder\n",
      "    \n",
      "\n",
      "    Category: entertainment\n",
      "    App name: TalkFamous\n",
      "    \n",
      "Category: lifestyle\n",
      "App name:\n"
     ]
    }
   ],
   "source": [
    "from langchain import FewShotPromptTemplate\n",
    "\n",
    "examples = [\n",
    "    {\"name\": \"Spotify\", \"category\": \"music\"},\n",
    "    {\"name\": \"Instagram\", \"category\": \"social\"},\n",
    "    {\"name\": \"TikTok\", \"category\": \"social\"},\n",
    "    {\"name\": \"Tinder\", \"category\": \"dating\"},\n",
    "    {\"name\": \"TalkFamous\", \"category\": \"entertainment\"}\n",
    "]\n",
    "\n",
    "app_name_prompt_template = PromptTemplate(\n",
    "    input_variables=[\"name\", \"category\"],\n",
    "    template=\"\"\"\n",
    "    Category: {category}\n",
    "    App name: {name}\n",
    "    \"\"\"\n",
    ")\n",
    "\n",
    "few_shot_template = FewShotPromptTemplate(\n",
    "    examples=examples,\n",
    "    example_prompt=app_name_prompt_template,\n",
    "    prefix=\"Create names for apps based on their category\",\n",
    "    suffix=\"Category: {category}\\nApp name:\",\n",
    "    input_variables=[\"category\"],\n",
    "    example_separator=\"\\n\"\n",
    ")\n",
    "\n",
    "formatted_app_name_prompt = few_shot_template.format(category=\"lifestyle\")\n",
    "\n",
    "print(formatted_app_name_prompt)"
   ]
  },
  {
   "cell_type": "code",
   "execution_count": 66,
   "id": "1cf06e2b",
   "metadata": {
    "collapsed": true
   },
   "outputs": [
    {
     "name": "stdout",
     "output_type": "stream",
     "text": [
      " PocketHelper\n"
     ]
    }
   ],
   "source": [
    "chain = LLMChain(llm=llm_basic, prompt=few_shot_template)\n",
    "\n",
    "app_name = chain.run(\"utility\")\n",
    "\n",
    "print(app_name)"
   ]
  }
 ],
 "metadata": {
  "kernelspec": {
   "display_name": "Python 3 (ipykernel)",
   "language": "python",
   "name": "python3"
  },
  "language_info": {
   "codemirror_mode": {
    "name": "ipython",
    "version": 3
   },
   "file_extension": ".py",
   "mimetype": "text/x-python",
   "name": "python",
   "nbconvert_exporter": "python",
   "pygments_lexer": "ipython3",
   "version": "3.9.13"
  }
 },
 "nbformat": 4,
 "nbformat_minor": 5
}
