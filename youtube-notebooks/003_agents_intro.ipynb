{
 "cells": [
  {
   "cell_type": "code",
   "execution_count": 24,
   "id": "775edf12",
   "metadata": {
    "collapsed": true
   },
   "outputs": [
    {
     "name": "stdout",
     "output_type": "stream",
     "text": [
      "Collecting google-search-results\n",
      "  Downloading google_search_results-2.4.2.tar.gz (18 kB)\n",
      "  Preparing metadata (setup.py) ... \u001b[?25ldone\n",
      "\u001b[?25hRequirement already satisfied: requests in /Users/nick/opt/anaconda3/lib/python3.9/site-packages (from google-search-results) (2.28.1)\n",
      "Requirement already satisfied: urllib3<1.27,>=1.21.1 in /Users/nick/opt/anaconda3/lib/python3.9/site-packages (from requests->google-search-results) (1.26.11)\n",
      "Requirement already satisfied: idna<4,>=2.5 in /Users/nick/opt/anaconda3/lib/python3.9/site-packages (from requests->google-search-results) (3.3)\n",
      "Requirement already satisfied: charset-normalizer<3,>=2 in /Users/nick/opt/anaconda3/lib/python3.9/site-packages (from requests->google-search-results) (2.0.4)\n",
      "Requirement already satisfied: certifi>=2017.4.17 in /Users/nick/opt/anaconda3/lib/python3.9/site-packages (from requests->google-search-results) (2022.12.7)\n",
      "Building wheels for collected packages: google-search-results\n",
      "  Building wheel for google-search-results (setup.py) ... \u001b[?25ldone\n",
      "\u001b[?25h  Created wheel for google-search-results: filename=google_search_results-2.4.2-py3-none-any.whl size=32003 sha256=ef0a56b2a1b88828468a1b923e3c67dcc0f147f48b1302414842f9d33bf0d7fd\n",
      "  Stored in directory: /Users/nick/Library/Caches/pip/wheels/68/8e/73/744b7d9d7ac618849d93081a20e1c0deccd2aef90901c9f5a9\n",
      "Successfully built google-search-results\n",
      "Installing collected packages: google-search-results\n",
      "Successfully installed google-search-results-2.4.2\n",
      "Note: you may need to restart the kernel to use updated packages.\n"
     ]
    }
   ],
   "source": [
    "pip install google-search-results"
   ]
  },
  {
   "cell_type": "code",
   "execution_count": 23,
   "id": "26b6860a",
   "metadata": {},
   "outputs": [],
   "source": [
    "OPENAI_API_KEY = \"...\"\n",
    "SERPAPI_API_KEY = \"...\"\n",
    "\n",
    "import os\n",
    "\n",
    "os.environ[\"OPENAI_API_KEY\"] = OPENAI_API_KEY\n",
    "os.environ[\"SERPAPI_API_KEY\"] = SERPAPI_API_KEY"
   ]
  },
  {
   "cell_type": "code",
   "execution_count": 32,
   "id": "658c67b4",
   "metadata": {},
   "outputs": [],
   "source": [
    "from langchain.agents import load_tools\n",
    "from langchain.agents import initialize_agent\n",
    "from langchain.llms import OpenAI\n",
    "from langchain.chains import LLMChain\n",
    "from langchain.prompts import PromptTemplate\n",
    "\n",
    "import openai"
   ]
  },
  {
   "cell_type": "code",
   "execution_count": 35,
   "id": "311456a6",
   "metadata": {},
   "outputs": [],
   "source": [
    "llm = OpenAI(temperature=0, openai_api_key=OPENAI_API_KEY)\n",
    "\n",
    "tool_names = [\"serpapi\"]\n",
    "tools = load_tools(tool_names)\n",
    "\n",
    "agent = initialize_agent(tools, llm, agent=\"zero-shot-react-description\", verbose=True)"
   ]
  },
  {
   "cell_type": "code",
   "execution_count": 36,
   "id": "a305da2d",
   "metadata": {},
   "outputs": [
    {
     "name": "stdout",
     "output_type": "stream",
     "text": [
      "\n",
      "\n",
      "\u001b[1m> Entering new AgentExecutor chain...\u001b[0m\n",
      "\u001b[32;1m\u001b[1;3m I should look up the current weather in Austin\n",
      "Action: Search\n",
      "Action Input: \"weather in Austin Texas\"\u001b[0m\n",
      "Observation: \u001b[36;1m\u001b[1;3mThunderstorms in the morning, then becoming mostly sunny late. High near 85F. Winds WSW at 5 to 10 mph. Chance of rain 80%. Humidity59%. UV Index8 of 10.\u001b[0m\n",
      "Thought:\u001b[32;1m\u001b[1;3m I now know the current weather in Austin\n",
      "Final Answer: Thunderstorms in the morning, then becoming mostly sunny late. High near 85F. Winds WSW at 5 to 10 mph. Chance of rain 80%. Humidity59%. UV Index8 of 10.\u001b[0m\n",
      "\n",
      "\u001b[1m> Finished chain.\u001b[0m\n"
     ]
    },
    {
     "data": {
      "text/plain": [
       "'Thunderstorms in the morning, then becoming mostly sunny late. High near 85F. Winds WSW at 5 to 10 mph. Chance of rain 80%. Humidity59%. UV Index8 of 10.'"
      ]
     },
     "execution_count": 36,
     "metadata": {},
     "output_type": "execute_result"
    }
   ],
   "source": [
    "agent.run(\"what is the weather in austin texas?\")"
   ]
  }
 ],
 "metadata": {
  "kernelspec": {
   "display_name": "Python 3 (ipykernel)",
   "language": "python",
   "name": "python3"
  },
  "language_info": {
   "codemirror_mode": {
    "name": "ipython",
    "version": 3
   },
   "file_extension": ".py",
   "mimetype": "text/x-python",
   "name": "python",
   "nbconvert_exporter": "python",
   "pygments_lexer": "ipython3",
   "version": "3.9.13"
  }
 },
 "nbformat": 4,
 "nbformat_minor": 5
}
