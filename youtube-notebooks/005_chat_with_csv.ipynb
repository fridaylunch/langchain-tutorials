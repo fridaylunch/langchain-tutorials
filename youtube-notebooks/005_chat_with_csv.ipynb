{
 "cells": [
  {
   "cell_type": "code",
   "execution_count": 1,
   "id": "0cd06163",
   "metadata": {},
   "outputs": [],
   "source": [
    "import os\n",
    "\n",
    "os.environ[\"OPENAI_API_KEY\"] = \"...\""
   ]
  },
  {
   "cell_type": "code",
   "execution_count": 20,
   "id": "eb15c922",
   "metadata": {},
   "outputs": [],
   "source": [
    "import pandas as pd\n",
    "\n",
    "df = pd.read_csv('../../nick_daigler_workout_logs_5-24-17_to_4-14-23.csv')"
   ]
  },
  {
   "cell_type": "code",
   "execution_count": 21,
   "id": "7cebd36c",
   "metadata": {},
   "outputs": [],
   "source": [
    "from langchain.agents import create_csv_agent\n",
    "from langchain.llms import OpenAI"
   ]
  },
  {
   "cell_type": "code",
   "execution_count": 22,
   "id": "3f6e0ac0",
   "metadata": {},
   "outputs": [],
   "source": [
    "agent = create_csv_agent(OpenAI(temperature=0), '../../nick_daigler_workout_logs_5-24-17_to_4-14-23.csv', verbose=True)"
   ]
  },
  {
   "cell_type": "code",
   "execution_count": 23,
   "id": "5ea72069",
   "metadata": {},
   "outputs": [
    {
     "name": "stdout",
     "output_type": "stream",
     "text": [
      "\n",
      "\n",
      "\u001b[1m> Entering new AgentExecutor chain...\u001b[0m\n",
      "\u001b[32;1m\u001b[1;3mThought: I need to find out what the columns are\n",
      "Action: python_repl_ast\n",
      "Action Input: df.columns\u001b[0m\n",
      "Observation: \u001b[36;1m\u001b[1;3mIndex(['Date', 'Workout Name', 'Duration', 'Exercise Name', 'Set Order',\n",
      "       'Weight', 'Reps', 'Distance', 'Seconds', 'Notes', 'Workout Notes',\n",
      "       'RPE'],\n",
      "      dtype='object')\u001b[0m\n",
      "Thought:\u001b[32;1m\u001b[1;3m I now know the final answer\n",
      "Final Answer: The columns are 'Date', 'Workout Name', 'Duration', 'Exercise Name', 'Set Order', 'Weight', 'Reps', 'Distance', 'Seconds', 'Notes', 'Workout Notes', and 'RPE'.\u001b[0m\n",
      "\n",
      "\u001b[1m> Finished chain.\u001b[0m\n"
     ]
    },
    {
     "data": {
      "text/plain": [
       "\"The columns are 'Date', 'Workout Name', 'Duration', 'Exercise Name', 'Set Order', 'Weight', 'Reps', 'Distance', 'Seconds', 'Notes', 'Workout Notes', and 'RPE'.\""
      ]
     },
     "execution_count": 23,
     "metadata": {},
     "output_type": "execute_result"
    }
   ],
   "source": [
    "agent.run('what are the columns?')"
   ]
  },
  {
   "cell_type": "code",
   "execution_count": 24,
   "id": "e6fdba2c",
   "metadata": {},
   "outputs": [
    {
     "name": "stdout",
     "output_type": "stream",
     "text": [
      "\n",
      "\n",
      "\u001b[1m> Entering new AgentExecutor chain...\u001b[0m\n",
      "\u001b[32;1m\u001b[1;3mThought: I need to count the number of times each exercise appears\n",
      "Action: python_repl_ast\n",
      "Action Input: df['Exercise Name'].value_counts()\u001b[0m\n",
      "Observation: \u001b[36;1m\u001b[1;3mBench Press (Barbell)                1589\n",
      "Bicep Curl (Dumbbell)                1004\n",
      "Overhead Press                        992\n",
      "Neutral Grip Pulldown                 861\n",
      "Seated Calf Raise                     848\n",
      "                                     ... \n",
      "Smith Machine Bench Press               1\n",
      "Standing Bike HIIT                      1\n",
      "Technogym Machine Back Extension        1\n",
      "Backpack Curl Like A Rope Curl          1\n",
      "Freemotion Machine Back Extension       1\n",
      "Name: Exercise Name, Length: 554, dtype: int64\u001b[0m\n",
      "Thought:\u001b[32;1m\u001b[1;3m I now know the final answer\n",
      "Final Answer: Bench Press (Barbell), Bicep Curl (Dumbbell), Overhead Press, Neutral Grip Pulldown, Seated Calf Raise, etc.\u001b[0m\n",
      "\n",
      "\u001b[1m> Finished chain.\u001b[0m\n"
     ]
    },
    {
     "data": {
      "text/plain": [
       "'Bench Press (Barbell), Bicep Curl (Dumbbell), Overhead Press, Neutral Grip Pulldown, Seated Calf Raise, etc.'"
      ]
     },
     "execution_count": 24,
     "metadata": {},
     "output_type": "execute_result"
    }
   ],
   "source": [
    "agent.run('list exercise names by frequency in descending order')"
   ]
  }
 ],
 "metadata": {
  "kernelspec": {
   "display_name": "Python 3 (ipykernel)",
   "language": "python",
   "name": "python3"
  },
  "language_info": {
   "codemirror_mode": {
    "name": "ipython",
    "version": 3
   },
   "file_extension": ".py",
   "mimetype": "text/x-python",
   "name": "python",
   "nbconvert_exporter": "python",
   "pygments_lexer": "ipython3",
   "version": "3.9.13"
  }
 },
 "nbformat": 4,
 "nbformat_minor": 5
}
